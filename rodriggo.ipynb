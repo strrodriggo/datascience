{
  "nbformat": 4,
  "nbformat_minor": 0,
  "metadata": {
    "colab": {
      "name": "rodriggo.ipynb",
      "provenance": [],
      "collapsed_sections": [],
      "authorship_tag": "ABX9TyMFrLFYAJUCdPNP3OOAkP6k"
    },
    "kernelspec": {
      "name": "python3",
      "display_name": "Python 3"
    },
    "language_info": {
      "name": "python"
    }
  },
  "cells": [
    {
      "cell_type": "code",
      "execution_count": 1,
      "metadata": {
        "colab": {
          "base_uri": "https://localhost:8080/",
          "height": 17
        },
        "id": "zHhF2v1ugNhy",
        "outputId": "d397ec71-1846-4bcf-edc9-be6331ce4be8"
      },
      "outputs": [
        {
          "output_type": "display_data",
          "data": {
            "text/html": [
              "        <script type=\"text/javascript\">\n",
              "        window.PlotlyConfig = {MathJaxConfig: 'local'};\n",
              "        if (window.MathJax) {MathJax.Hub.Config({SVG: {font: \"STIX-Web\"}});}\n",
              "        if (typeof require !== 'undefined') {\n",
              "        require.undef(\"plotly\");\n",
              "        requirejs.config({\n",
              "            paths: {\n",
              "                'plotly': ['https://cdn.plot.ly/plotly-2.8.3.min']\n",
              "            }\n",
              "        });\n",
              "        require(['plotly'], function(Plotly) {\n",
              "            window._Plotly = Plotly;\n",
              "        });\n",
              "        }\n",
              "        </script>\n",
              "        "
            ]
          },
          "metadata": {}
        },
        {
          "output_type": "display_data",
          "data": {
            "text/html": [
              "        <script type=\"text/javascript\">\n",
              "        window.PlotlyConfig = {MathJaxConfig: 'local'};\n",
              "        if (window.MathJax) {MathJax.Hub.Config({SVG: {font: \"STIX-Web\"}});}\n",
              "        if (typeof require !== 'undefined') {\n",
              "        require.undef(\"plotly\");\n",
              "        requirejs.config({\n",
              "            paths: {\n",
              "                'plotly': ['https://cdn.plot.ly/plotly-2.8.3.min']\n",
              "            }\n",
              "        });\n",
              "        require(['plotly'], function(Plotly) {\n",
              "            window._Plotly = Plotly;\n",
              "        });\n",
              "        }\n",
              "        </script>\n",
              "        "
            ]
          },
          "metadata": {}
        }
      ],
      "source": [
        "#importando as bibliotecas necessárias\n",
        "import pandas as pd\n",
        "import plotly.graph_objects as go\n",
        "import plotly.express as px\n",
        "import random\n",
        "import numpy as np\n",
        "import plotly \n",
        "import plotly.offline as py\n",
        "import plotly.graph_objs as go # criará de fato os gráficos\n",
        "from plotly.offline import plot, iplot\n",
        "import cufflinks as cf # para conectar o plotly ao pandas\n",
        "cf.go_offline()\n",
        "plotly.offline.init_notebook_mode(connected = True)\n",
        "import plotly.io as pio\n",
        "pio.renderers.default = 'colab'"
      ]
    },
    {
      "cell_type": "code",
      "source": [
        "#dados do exemplo 1\n",
        "valores= 10*np.random.randn(50,4)\n",
        "dados_1 = pd.DataFrame(valores, columns=['TIPO 1','TIPO 2','TIPO 3','TIPO 4'])\n",
        "dados_1.head()"
      ],
      "metadata": {
        "id": "WQAmgnQDgiuz"
      },
      "execution_count": null,
      "outputs": []
    },
    {
      "cell_type": "code",
      "source": [
        "dados_1.iplot(kind='scatter', x='TIPO 1',y='TIPO 2', mode='markers',color='darkblue')"
      ],
      "metadata": {
        "id": "6m9iI425iGJz"
      },
      "execution_count": null,
      "outputs": []
    },
    {
      "cell_type": "code",
      "source": [
        "dados_1.iplot(kind='scatter', x='TIPO 1',y='TIPO 2', mode='markers',color='darkblue')"
      ],
      "metadata": {
        "id": "CB6FeIMgilK4"
      },
      "execution_count": null,
      "outputs": []
    },
    {
      "cell_type": "code",
      "source": [
        "# gerando os dados\n",
        "tipos = ['TIPO 1', 'TIPO 2', 'TIPO 3', 'TIPO 4']\n",
        "antes = [75, 69, 29, 73]\n",
        "depois = [50, 70, 20, 27]\n",
        "\n",
        "# configurações\n",
        "antes = go.Bar(x = tipos, y = antes, name = 'Antes',marker = {'color': 'blue'})\n",
        "depois = go.Bar(x = tipos, y = depois, name = 'Depois',marker = {'color': 'red'})\n",
        "##gerando o gráfico\n",
        "dados_3 = [antes, depois]\n",
        "py.iplot(dados_3)"
      ],
      "metadata": {
        "id": "41S0HCZ3ipnk"
      },
      "execution_count": null,
      "outputs": []
    },
    {
      "cell_type": "code",
      "source": [
        ""
      ],
      "metadata": {
        "id": "BNGuYB98mMjp"
      },
      "execution_count": null,
      "outputs": []
    }
  ]
}